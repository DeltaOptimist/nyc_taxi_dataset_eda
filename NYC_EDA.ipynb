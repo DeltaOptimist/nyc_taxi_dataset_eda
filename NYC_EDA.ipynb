{
  "nbformat": 4,
  "nbformat_minor": 0,
  "metadata": {
    "colab": {
      "name": "NYC_EDA.ipynb",
      "provenance": []
    },
    "kernelspec": {
      "name": "python3",
      "display_name": "Python 3"
    }
  },
  "cells": [
    {
      "cell_type": "markdown",
      "metadata": {
        "id": "5E1D5xqjSuB3"
      },
      "source": [
        "**What is Exploratory Data Analysis?**\r\n",
        "\r\n",
        "Exploratory Data Analysis is investigating data and drawing out insights from it to study its main characteristics. EDA can be done using statistical and visualization techniques.\r\n",
        "\r\n",
        "\r\n",
        "**Why is EDA important?**\r\n",
        "\r\n",
        "We simply can’t make sense of such huge datasets if we don’t explore the data.\r\n",
        "\r\n",
        "Exploring and analyzing the data is important to see how features are contributing to the target variable, identifying anomalies and outliers to treat them lest they affect our model, to study the nature of the features, and be able to perform data cleaning so that our model building process is as efficient as possible.\r\n",
        "\r\n",
        "If we don’t perform exploratory data analysis, we won’t be able to find inconsistent or incomplete data that may pose trends incorrectly to our model."
      ]
    },
    {
      "cell_type": "code",
      "metadata": {
        "id": "etvaX5L0SX4F"
      },
      "source": [
        "import pandas as pd       #data processing\r\n",
        "import numpy as np        #linear algebra\r\n",
        "\r\n",
        "#data visualisation\r\n",
        "import seaborn as sns     \r\n",
        "sns.set()\r\n",
        "import matplotlib.pyplot as plt\r\n",
        "%matplotlib inline\r\n",
        "\r\n",
        "import datetime as dt\r\n",
        "import warnings; warnings.simplefilter('ignore')"
      ],
      "execution_count": 49,
      "outputs": []
    },
    {
      "cell_type": "code",
      "metadata": {
        "id": "GOlQIC9LZqgm"
      },
      "source": [
        "data=pd.read_csv(\"/content/sample_data/nyc_taxi_trip_duration.csv\")"
      ],
      "execution_count": 50,
      "outputs": []
    },
    {
      "cell_type": "code",
      "metadata": {
        "colab": {
          "base_uri": "https://localhost:8080/"
        },
        "id": "LWz8htfTZwnZ",
        "outputId": "32a9abab-edc9-4c62-8dba-c88a7f91c514"
      },
      "source": [
        "data.shape"
      ],
      "execution_count": 51,
      "outputs": [
        {
          "output_type": "execute_result",
          "data": {
            "text/plain": [
              "(729322, 11)"
            ]
          },
          "metadata": {
            "tags": []
          },
          "execution_count": 51
        }
      ]
    },
    {
      "cell_type": "code",
      "metadata": {
        "colab": {
          "base_uri": "https://localhost:8080/"
        },
        "id": "hVwSGZMXZ0WV",
        "outputId": "d76c0e7a-42ee-406a-a1fb-62a3295f5651"
      },
      "source": [
        "data.columns"
      ],
      "execution_count": 52,
      "outputs": [
        {
          "output_type": "execute_result",
          "data": {
            "text/plain": [
              "Index(['id', 'vendor_id', 'pickup_datetime', 'dropoff_datetime',\n",
              "       'passenger_count', 'pickup_longitude', 'pickup_latitude',\n",
              "       'dropoff_longitude', 'dropoff_latitude', 'store_and_fwd_flag',\n",
              "       'trip_duration'],\n",
              "      dtype='object')"
            ]
          },
          "metadata": {
            "tags": []
          },
          "execution_count": 52
        }
      ]
    },
    {
      "cell_type": "code",
      "metadata": {
        "colab": {
          "base_uri": "https://localhost:8080/"
        },
        "id": "BRDvYN2rZ2WE",
        "outputId": "8c0e53a0-a58e-4dad-93cb-f3e145c25e15"
      },
      "source": [
        "data.dtypes"
      ],
      "execution_count": 53,
      "outputs": [
        {
          "output_type": "execute_result",
          "data": {
            "text/plain": [
              "id                     object\n",
              "vendor_id               int64\n",
              "pickup_datetime        object\n",
              "dropoff_datetime       object\n",
              "passenger_count         int64\n",
              "pickup_longitude      float64\n",
              "pickup_latitude       float64\n",
              "dropoff_longitude     float64\n",
              "dropoff_latitude      float64\n",
              "store_and_fwd_flag     object\n",
              "trip_duration           int64\n",
              "dtype: object"
            ]
          },
          "metadata": {
            "tags": []
          },
          "execution_count": 53
        }
      ]
    },
    {
      "cell_type": "markdown",
      "metadata": {
        "id": "ZHSa35P-aCAL"
      },
      "source": [
        "We have id, pickup_datetime, dropoff_datetime, and store_and_fwd_flag of the type ‘object’.\r\n",
        "\r\n",
        "vendor_id, passenger_count, and trip_duration are of type int.\r\n",
        "\r\n",
        "pickup_longitude, pickup_latitude, dropoff_longitude, and dropoff_latitude are of type float"
      ]
    },
    {
      "cell_type": "code",
      "metadata": {
        "colab": {
          "base_uri": "https://localhost:8080/",
          "height": 299
        },
        "id": "tNwlbxkEZ6at",
        "outputId": "eb4968dc-c50f-4bb3-9685-cda1f56d3e48"
      },
      "source": [
        "data.head()"
      ],
      "execution_count": 54,
      "outputs": [
        {
          "output_type": "execute_result",
          "data": {
            "text/html": [
              "<div>\n",
              "<style scoped>\n",
              "    .dataframe tbody tr th:only-of-type {\n",
              "        vertical-align: middle;\n",
              "    }\n",
              "\n",
              "    .dataframe tbody tr th {\n",
              "        vertical-align: top;\n",
              "    }\n",
              "\n",
              "    .dataframe thead th {\n",
              "        text-align: right;\n",
              "    }\n",
              "</style>\n",
              "<table border=\"1\" class=\"dataframe\">\n",
              "  <thead>\n",
              "    <tr style=\"text-align: right;\">\n",
              "      <th></th>\n",
              "      <th>id</th>\n",
              "      <th>vendor_id</th>\n",
              "      <th>pickup_datetime</th>\n",
              "      <th>dropoff_datetime</th>\n",
              "      <th>passenger_count</th>\n",
              "      <th>pickup_longitude</th>\n",
              "      <th>pickup_latitude</th>\n",
              "      <th>dropoff_longitude</th>\n",
              "      <th>dropoff_latitude</th>\n",
              "      <th>store_and_fwd_flag</th>\n",
              "      <th>trip_duration</th>\n",
              "    </tr>\n",
              "  </thead>\n",
              "  <tbody>\n",
              "    <tr>\n",
              "      <th>0</th>\n",
              "      <td>id1080784</td>\n",
              "      <td>2</td>\n",
              "      <td>2016-02-29 16:40:21</td>\n",
              "      <td>2016-02-29 16:47:01</td>\n",
              "      <td>1</td>\n",
              "      <td>-73.953918</td>\n",
              "      <td>40.778873</td>\n",
              "      <td>-73.963875</td>\n",
              "      <td>40.771164</td>\n",
              "      <td>N</td>\n",
              "      <td>400</td>\n",
              "    </tr>\n",
              "    <tr>\n",
              "      <th>1</th>\n",
              "      <td>id0889885</td>\n",
              "      <td>1</td>\n",
              "      <td>2016-03-11 23:35:37</td>\n",
              "      <td>2016-03-11 23:53:57</td>\n",
              "      <td>2</td>\n",
              "      <td>-73.988312</td>\n",
              "      <td>40.731743</td>\n",
              "      <td>-73.994751</td>\n",
              "      <td>40.694931</td>\n",
              "      <td>N</td>\n",
              "      <td>1100</td>\n",
              "    </tr>\n",
              "    <tr>\n",
              "      <th>2</th>\n",
              "      <td>id0857912</td>\n",
              "      <td>2</td>\n",
              "      <td>2016-02-21 17:59:33</td>\n",
              "      <td>2016-02-21 18:26:48</td>\n",
              "      <td>2</td>\n",
              "      <td>-73.997314</td>\n",
              "      <td>40.721458</td>\n",
              "      <td>-73.948029</td>\n",
              "      <td>40.774918</td>\n",
              "      <td>N</td>\n",
              "      <td>1635</td>\n",
              "    </tr>\n",
              "    <tr>\n",
              "      <th>3</th>\n",
              "      <td>id3744273</td>\n",
              "      <td>2</td>\n",
              "      <td>2016-01-05 09:44:31</td>\n",
              "      <td>2016-01-05 10:03:32</td>\n",
              "      <td>6</td>\n",
              "      <td>-73.961670</td>\n",
              "      <td>40.759720</td>\n",
              "      <td>-73.956779</td>\n",
              "      <td>40.780628</td>\n",
              "      <td>N</td>\n",
              "      <td>1141</td>\n",
              "    </tr>\n",
              "    <tr>\n",
              "      <th>4</th>\n",
              "      <td>id0232939</td>\n",
              "      <td>1</td>\n",
              "      <td>2016-02-17 06:42:23</td>\n",
              "      <td>2016-02-17 06:56:31</td>\n",
              "      <td>1</td>\n",
              "      <td>-74.017120</td>\n",
              "      <td>40.708469</td>\n",
              "      <td>-73.988182</td>\n",
              "      <td>40.740631</td>\n",
              "      <td>N</td>\n",
              "      <td>848</td>\n",
              "    </tr>\n",
              "  </tbody>\n",
              "</table>\n",
              "</div>"
            ],
            "text/plain": [
              "          id  vendor_id  ... store_and_fwd_flag trip_duration\n",
              "0  id1080784          2  ...                  N           400\n",
              "1  id0889885          1  ...                  N          1100\n",
              "2  id0857912          2  ...                  N          1635\n",
              "3  id3744273          2  ...                  N          1141\n",
              "4  id0232939          1  ...                  N           848\n",
              "\n",
              "[5 rows x 11 columns]"
            ]
          },
          "metadata": {
            "tags": []
          },
          "execution_count": 54
        }
      ]
    },
    {
      "cell_type": "markdown",
      "metadata": {
        "id": "uuvc3siKa6Cm"
      },
      "source": [
        "**Independent Variables:**\r\n",
        "\r\n",
        "id — a unique identifier for each trip\r\n",
        "\r\n",
        "vendor_id — a code indicating the provider associated with the trip record\r\n",
        "\r\n",
        "pickup_datetime — date and time when the meter was engaged\r\n",
        "\r\n",
        "dropoff_datetime — date and time when the meter was disengaged\r\n",
        "\r\n",
        "passenger_count — the number of passengers in the vehicle (driver entered value)\r\n",
        "\r\n",
        "pickup_longitude — the longitude where the meter was engaged\r\n",
        "\r\n",
        "pickup_latitude — the latitude where the meter was engaged\r\n",
        "\r\n",
        "dropoff_longitude — the longitude where the meter was disengaged\r\n",
        "\r\n",
        "dropoff_latitude — the latitude where the meter was disengaged\r\n",
        "\r\n",
        "store_and_fwd_flag — This flag indicates whether the trip record was held in vehicle memory before sending to the vendor because the vehicle did not have a connection to the server — Y=store and forward; N=not a store and forward trip.\r\n",
        "\r\n",
        "\r\n",
        "\r\n",
        "\r\n",
        "\r\n",
        "**Target Variable:**\r\n",
        "\r\n",
        "trip_duration — duration of the trip in seconds"
      ]
    },
    {
      "cell_type": "code",
      "metadata": {
        "colab": {
          "base_uri": "https://localhost:8080/"
        },
        "id": "fGl0bzEkaKBa",
        "outputId": "e1af847c-dbd0-487d-f5e8-95d451322bb0"
      },
      "source": [
        "#Let us see if there are any null values in our dataset.\r\n",
        "\r\n",
        "data.isnull().sum()"
      ],
      "execution_count": 55,
      "outputs": [
        {
          "output_type": "execute_result",
          "data": {
            "text/plain": [
              "id                    0\n",
              "vendor_id             0\n",
              "pickup_datetime       0\n",
              "dropoff_datetime      0\n",
              "passenger_count       0\n",
              "pickup_longitude      0\n",
              "pickup_latitude       0\n",
              "dropoff_longitude     0\n",
              "dropoff_latitude      0\n",
              "store_and_fwd_flag    0\n",
              "trip_duration         0\n",
              "dtype: int64"
            ]
          },
          "metadata": {
            "tags": []
          },
          "execution_count": 55
        }
      ]
    },
    {
      "cell_type": "code",
      "metadata": {
        "colab": {
          "base_uri": "https://localhost:8080/"
        },
        "id": "y5ghZyXOb6Me",
        "outputId": "e1eed804-66cb-44ab-e273-6c0163516632"
      },
      "source": [
        "data.nunique()"
      ],
      "execution_count": 56,
      "outputs": [
        {
          "output_type": "execute_result",
          "data": {
            "text/plain": [
              "id                    729322\n",
              "vendor_id                  2\n",
              "pickup_datetime       709359\n",
              "dropoff_datetime      709308\n",
              "passenger_count            9\n",
              "pickup_longitude       19729\n",
              "pickup_latitude        39776\n",
              "dropoff_longitude      27892\n",
              "dropoff_latitude       53579\n",
              "store_and_fwd_flag         2\n",
              "trip_duration           6296\n",
              "dtype: int64"
            ]
          },
          "metadata": {
            "tags": []
          },
          "execution_count": 56
        }
      ]
    },
    {
      "cell_type": "markdown",
      "metadata": {
        "id": "PbejIOaleDSe"
      },
      "source": [
        "We see that id has 729322 unique values which are equal to the number of rows in our dataset.\r\n",
        "\r\n",
        "There are 2 unique vendor ids.\r\n",
        "\r\n",
        "There are 9 unique passenger counts.\r\n",
        "\r\n",
        "There are 2 unique values for store_and_fwd_flag, that we also saw in the description of the variables, which are Y and N."
      ]
    },
    {
      "cell_type": "code",
      "metadata": {
        "colab": {
          "base_uri": "https://localhost:8080/",
          "height": 284
        },
        "id": "NPcmnH7xdNRQ",
        "outputId": "93155bcc-146a-4b1e-dc0f-09b4a12eb982"
      },
      "source": [
        "data.describe()"
      ],
      "execution_count": 57,
      "outputs": [
        {
          "output_type": "execute_result",
          "data": {
            "text/html": [
              "<div>\n",
              "<style scoped>\n",
              "    .dataframe tbody tr th:only-of-type {\n",
              "        vertical-align: middle;\n",
              "    }\n",
              "\n",
              "    .dataframe tbody tr th {\n",
              "        vertical-align: top;\n",
              "    }\n",
              "\n",
              "    .dataframe thead th {\n",
              "        text-align: right;\n",
              "    }\n",
              "</style>\n",
              "<table border=\"1\" class=\"dataframe\">\n",
              "  <thead>\n",
              "    <tr style=\"text-align: right;\">\n",
              "      <th></th>\n",
              "      <th>vendor_id</th>\n",
              "      <th>passenger_count</th>\n",
              "      <th>pickup_longitude</th>\n",
              "      <th>pickup_latitude</th>\n",
              "      <th>dropoff_longitude</th>\n",
              "      <th>dropoff_latitude</th>\n",
              "      <th>trip_duration</th>\n",
              "    </tr>\n",
              "  </thead>\n",
              "  <tbody>\n",
              "    <tr>\n",
              "      <th>count</th>\n",
              "      <td>729322.000000</td>\n",
              "      <td>729322.000000</td>\n",
              "      <td>729322.000000</td>\n",
              "      <td>729322.000000</td>\n",
              "      <td>729322.000000</td>\n",
              "      <td>729322.000000</td>\n",
              "      <td>7.293220e+05</td>\n",
              "    </tr>\n",
              "    <tr>\n",
              "      <th>mean</th>\n",
              "      <td>1.535403</td>\n",
              "      <td>1.662055</td>\n",
              "      <td>-73.973513</td>\n",
              "      <td>40.750919</td>\n",
              "      <td>-73.973422</td>\n",
              "      <td>40.751775</td>\n",
              "      <td>9.522291e+02</td>\n",
              "    </tr>\n",
              "    <tr>\n",
              "      <th>std</th>\n",
              "      <td>0.498745</td>\n",
              "      <td>1.312446</td>\n",
              "      <td>0.069754</td>\n",
              "      <td>0.033594</td>\n",
              "      <td>0.069588</td>\n",
              "      <td>0.036037</td>\n",
              "      <td>3.864626e+03</td>\n",
              "    </tr>\n",
              "    <tr>\n",
              "      <th>min</th>\n",
              "      <td>1.000000</td>\n",
              "      <td>0.000000</td>\n",
              "      <td>-121.933342</td>\n",
              "      <td>34.712234</td>\n",
              "      <td>-121.933304</td>\n",
              "      <td>32.181141</td>\n",
              "      <td>1.000000e+00</td>\n",
              "    </tr>\n",
              "    <tr>\n",
              "      <th>25%</th>\n",
              "      <td>1.000000</td>\n",
              "      <td>1.000000</td>\n",
              "      <td>-73.991859</td>\n",
              "      <td>40.737335</td>\n",
              "      <td>-73.991318</td>\n",
              "      <td>40.735931</td>\n",
              "      <td>3.970000e+02</td>\n",
              "    </tr>\n",
              "    <tr>\n",
              "      <th>50%</th>\n",
              "      <td>2.000000</td>\n",
              "      <td>1.000000</td>\n",
              "      <td>-73.981758</td>\n",
              "      <td>40.754070</td>\n",
              "      <td>-73.979759</td>\n",
              "      <td>40.754509</td>\n",
              "      <td>6.630000e+02</td>\n",
              "    </tr>\n",
              "    <tr>\n",
              "      <th>75%</th>\n",
              "      <td>2.000000</td>\n",
              "      <td>2.000000</td>\n",
              "      <td>-73.967361</td>\n",
              "      <td>40.768314</td>\n",
              "      <td>-73.963036</td>\n",
              "      <td>40.769741</td>\n",
              "      <td>1.075000e+03</td>\n",
              "    </tr>\n",
              "    <tr>\n",
              "      <th>max</th>\n",
              "      <td>2.000000</td>\n",
              "      <td>9.000000</td>\n",
              "      <td>-65.897385</td>\n",
              "      <td>51.881084</td>\n",
              "      <td>-65.897385</td>\n",
              "      <td>43.921028</td>\n",
              "      <td>1.939736e+06</td>\n",
              "    </tr>\n",
              "  </tbody>\n",
              "</table>\n",
              "</div>"
            ],
            "text/plain": [
              "           vendor_id  passenger_count  ...  dropoff_latitude  trip_duration\n",
              "count  729322.000000    729322.000000  ...     729322.000000   7.293220e+05\n",
              "mean        1.535403         1.662055  ...         40.751775   9.522291e+02\n",
              "std         0.498745         1.312446  ...          0.036037   3.864626e+03\n",
              "min         1.000000         0.000000  ...         32.181141   1.000000e+00\n",
              "25%         1.000000         1.000000  ...         40.735931   3.970000e+02\n",
              "50%         2.000000         1.000000  ...         40.754509   6.630000e+02\n",
              "75%         2.000000         2.000000  ...         40.769741   1.075000e+03\n",
              "max         2.000000         9.000000  ...         43.921028   1.939736e+06\n",
              "\n",
              "[8 rows x 7 columns]"
            ]
          },
          "metadata": {
            "tags": []
          },
          "execution_count": 57
        }
      ]
    },
    {
      "cell_type": "markdown",
      "metadata": {
        "id": "pxGiblGBfPL5"
      },
      "source": [
        "Some insights from the above summary:\r\n",
        "\r\n",
        "Vendor id has a minimum value of 1 and a maximum value of 2 which makes sense as we saw there are two vendor ids 1 and 2.\r\n",
        "\r\n",
        "Passenger count has a minimum of 0 which means either it is an error entered or the drivers deliberately entered 0 to complete a target number of rides.\r\n",
        "\r\n"
      ]
    },
    {
      "cell_type": "markdown",
      "metadata": {
        "id": "ATeeQ-ZBhdqd"
      },
      "source": [
        "Feature Creation\r\n",
        "\r\n",
        "Let us create some new features from the existing variables so that we can gain more insights from the data.\r\n",
        "\r\n",
        "Remember pickup_datetime and dropoff_datetime were both of type object.\r\n",
        "If we want to make use of this data, we can convert it to datetime object which contains numerous functions with which we can create new features that we will see soon.\r\n",
        "\r\n",
        "We can convert it to datetime using the following code."
      ]
    },
    {
      "cell_type": "code",
      "metadata": {
        "id": "q1gFW_GweMRt"
      },
      "source": [
        "data['pickup_datetime']=pd.to_datetime(data['pickup_datetime'])\r\n",
        "\r\n",
        "data['dropoff_datetime']=pd.to_datetime(data['dropoff_datetime'])"
      ],
      "execution_count": 58,
      "outputs": []
    },
    {
      "cell_type": "code",
      "metadata": {
        "colab": {
          "base_uri": "https://localhost:8080/"
        },
        "id": "9hTS99HHijUX",
        "outputId": "53e5ba51-8af1-485f-d545-2853a1453804"
      },
      "source": [
        "data.dtypes"
      ],
      "execution_count": 59,
      "outputs": [
        {
          "output_type": "execute_result",
          "data": {
            "text/plain": [
              "id                            object\n",
              "vendor_id                      int64\n",
              "pickup_datetime       datetime64[ns]\n",
              "dropoff_datetime      datetime64[ns]\n",
              "passenger_count                int64\n",
              "pickup_longitude             float64\n",
              "pickup_latitude              float64\n",
              "dropoff_longitude            float64\n",
              "dropoff_latitude             float64\n",
              "store_and_fwd_flag            object\n",
              "trip_duration                  int64\n",
              "dtype: object"
            ]
          },
          "metadata": {
            "tags": []
          },
          "execution_count": 59
        }
      ]
    },
    {
      "cell_type": "markdown",
      "metadata": {
        "id": "VJSgV5aSi1bK"
      },
      "source": [
        "Now, let us extract and create new features from this datetime features we just created."
      ]
    },
    {
      "cell_type": "code",
      "metadata": {
        "id": "YMPacarkiwRx"
      },
      "source": [
        "data['pickup_day']=data['pickup_datetime'].dt.day_name()\r\n",
        "\r\n",
        "data['dropoff_day']=data['dropoff_datetime'].dt.day_name()"
      ],
      "execution_count": 60,
      "outputs": []
    },
    {
      "cell_type": "code",
      "metadata": {
        "id": "vfnjI0R2i8ew"
      },
      "source": [
        "data['pickup_day_no']=data['pickup_datetime'].dt.weekday\r\n",
        "data['dropoff_day_no']=data['dropoff_datetime'].dt.weekday\r\n",
        "\r\n",
        "\r\n",
        "data['pickup_hour']=data['pickup_datetime'].dt.hour\r\n",
        "data['dropoff_hour']=data['dropoff_datetime'].dt.hour\r\n",
        "\r\n",
        "\r\n",
        "data['pickup_month']=data['pickup_datetime'].dt.month\r\n",
        "data['dropoff_month']=data['dropoff_datetime'].dt.month"
      ],
      "execution_count": 61,
      "outputs": []
    },
    {
      "cell_type": "markdown",
      "metadata": {
        "id": "_hlwenaFmyPK"
      },
      "source": [
        "pickup_day and dropoff_day which will contain the name of the day on which the ride was taken.\r\n",
        "\r\n",
        "pickup_day_no and dropoff_day_no which will contain the day number instead of characters with Monday=0 and Sunday=6.\r\n",
        "\r\n",
        "pickup_hour and dropoff_hour with an hour of the day in the 24-hour format.\r\n",
        "\r\n",
        "pickup_month and dropoff_month with month number with January=1 and December=12."
      ]
    },
    {
      "cell_type": "markdown",
      "metadata": {
        "id": "rPrt7QjznaMT"
      },
      "source": [
        "Next, we have defined a function that lets us determine what time of the day the ride was taken. \r\n",
        "\r\n",
        "We have created 4 time zones \r\n",
        "\r\n",
        "‘Morning’ (from 6:00 am to 11:59 am), \r\n",
        "\r\n",
        "‘Afternoon’ (from 12 noon to 3:59 pm),\r\n",
        "\r\n",
        "‘Evening’ (from 4:00 pm to 9:59 pm), and \r\n",
        "\r\n",
        "‘Late Night’ (from 10:00 pm to 5:59 am)"
      ]
    },
    {
      "cell_type": "code",
      "metadata": {
        "id": "Sv5ckO-ljEon"
      },
      "source": [
        "def time_of_day(x):\r\n",
        "    if x in range(6,12):\r\n",
        "        return 'Morning'\r\n",
        "    elif x in range(12,16):\r\n",
        "        return 'Afternoon'\r\n",
        "    elif x in range(16,22):\r\n",
        "        return 'Evening'\r\n",
        "    else:\r\n",
        "        return 'Late night'"
      ],
      "execution_count": 62,
      "outputs": []
    },
    {
      "cell_type": "markdown",
      "metadata": {
        "id": "lSoQoXNwoVHh"
      },
      "source": [
        "Now let us apply this function and create new columns in the dataset."
      ]
    },
    {
      "cell_type": "code",
      "metadata": {
        "id": "CBOIJwXaoQVY"
      },
      "source": [
        "data['pickup_timeofday']=data['pickup_hour'].apply(time_of_day)\r\n",
        "\r\n",
        "data['dropoff_timeofday']=data['dropoff_hour'].apply(time_of_day)"
      ],
      "execution_count": 63,
      "outputs": []
    },
    {
      "cell_type": "code",
      "metadata": {
        "colab": {
          "base_uri": "https://localhost:8080/"
        },
        "id": "yGfczgu_8NlK",
        "outputId": "8bdb322e-3438-448e-ea38-fe6904917c23"
      },
      "source": [
        "data.dtypes"
      ],
      "execution_count": 64,
      "outputs": [
        {
          "output_type": "execute_result",
          "data": {
            "text/plain": [
              "id                            object\n",
              "vendor_id                      int64\n",
              "pickup_datetime       datetime64[ns]\n",
              "dropoff_datetime      datetime64[ns]\n",
              "passenger_count                int64\n",
              "pickup_longitude             float64\n",
              "pickup_latitude              float64\n",
              "dropoff_longitude            float64\n",
              "dropoff_latitude             float64\n",
              "store_and_fwd_flag            object\n",
              "trip_duration                  int64\n",
              "pickup_day                    object\n",
              "dropoff_day                   object\n",
              "pickup_day_no                  int64\n",
              "dropoff_day_no                 int64\n",
              "pickup_hour                    int64\n",
              "dropoff_hour                   int64\n",
              "pickup_month                   int64\n",
              "dropoff_month                  int64\n",
              "pickup_timeofday              object\n",
              "dropoff_timeofday             object\n",
              "dtype: object"
            ]
          },
          "metadata": {
            "tags": []
          },
          "execution_count": 64
        }
      ]
    },
    {
      "cell_type": "code",
      "metadata": {
        "colab": {
          "base_uri": "https://localhost:8080/",
          "height": 299
        },
        "id": "AoIZS-BC8mFi",
        "outputId": "c1aed0a8-cd4e-4174-d0bd-98a8156a50f2"
      },
      "source": [
        "data.head()"
      ],
      "execution_count": 65,
      "outputs": [
        {
          "output_type": "execute_result",
          "data": {
            "text/html": [
              "<div>\n",
              "<style scoped>\n",
              "    .dataframe tbody tr th:only-of-type {\n",
              "        vertical-align: middle;\n",
              "    }\n",
              "\n",
              "    .dataframe tbody tr th {\n",
              "        vertical-align: top;\n",
              "    }\n",
              "\n",
              "    .dataframe thead th {\n",
              "        text-align: right;\n",
              "    }\n",
              "</style>\n",
              "<table border=\"1\" class=\"dataframe\">\n",
              "  <thead>\n",
              "    <tr style=\"text-align: right;\">\n",
              "      <th></th>\n",
              "      <th>id</th>\n",
              "      <th>vendor_id</th>\n",
              "      <th>pickup_datetime</th>\n",
              "      <th>dropoff_datetime</th>\n",
              "      <th>passenger_count</th>\n",
              "      <th>pickup_longitude</th>\n",
              "      <th>pickup_latitude</th>\n",
              "      <th>dropoff_longitude</th>\n",
              "      <th>dropoff_latitude</th>\n",
              "      <th>store_and_fwd_flag</th>\n",
              "      <th>trip_duration</th>\n",
              "      <th>pickup_day</th>\n",
              "      <th>dropoff_day</th>\n",
              "      <th>pickup_day_no</th>\n",
              "      <th>dropoff_day_no</th>\n",
              "      <th>pickup_hour</th>\n",
              "      <th>dropoff_hour</th>\n",
              "      <th>pickup_month</th>\n",
              "      <th>dropoff_month</th>\n",
              "      <th>pickup_timeofday</th>\n",
              "      <th>dropoff_timeofday</th>\n",
              "    </tr>\n",
              "  </thead>\n",
              "  <tbody>\n",
              "    <tr>\n",
              "      <th>0</th>\n",
              "      <td>id1080784</td>\n",
              "      <td>2</td>\n",
              "      <td>2016-02-29 16:40:21</td>\n",
              "      <td>2016-02-29 16:47:01</td>\n",
              "      <td>1</td>\n",
              "      <td>-73.953918</td>\n",
              "      <td>40.778873</td>\n",
              "      <td>-73.963875</td>\n",
              "      <td>40.771164</td>\n",
              "      <td>N</td>\n",
              "      <td>400</td>\n",
              "      <td>Monday</td>\n",
              "      <td>Monday</td>\n",
              "      <td>0</td>\n",
              "      <td>0</td>\n",
              "      <td>16</td>\n",
              "      <td>16</td>\n",
              "      <td>2</td>\n",
              "      <td>2</td>\n",
              "      <td>Evening</td>\n",
              "      <td>Evening</td>\n",
              "    </tr>\n",
              "    <tr>\n",
              "      <th>1</th>\n",
              "      <td>id0889885</td>\n",
              "      <td>1</td>\n",
              "      <td>2016-03-11 23:35:37</td>\n",
              "      <td>2016-03-11 23:53:57</td>\n",
              "      <td>2</td>\n",
              "      <td>-73.988312</td>\n",
              "      <td>40.731743</td>\n",
              "      <td>-73.994751</td>\n",
              "      <td>40.694931</td>\n",
              "      <td>N</td>\n",
              "      <td>1100</td>\n",
              "      <td>Friday</td>\n",
              "      <td>Friday</td>\n",
              "      <td>4</td>\n",
              "      <td>4</td>\n",
              "      <td>23</td>\n",
              "      <td>23</td>\n",
              "      <td>3</td>\n",
              "      <td>3</td>\n",
              "      <td>Late night</td>\n",
              "      <td>Late night</td>\n",
              "    </tr>\n",
              "    <tr>\n",
              "      <th>2</th>\n",
              "      <td>id0857912</td>\n",
              "      <td>2</td>\n",
              "      <td>2016-02-21 17:59:33</td>\n",
              "      <td>2016-02-21 18:26:48</td>\n",
              "      <td>2</td>\n",
              "      <td>-73.997314</td>\n",
              "      <td>40.721458</td>\n",
              "      <td>-73.948029</td>\n",
              "      <td>40.774918</td>\n",
              "      <td>N</td>\n",
              "      <td>1635</td>\n",
              "      <td>Sunday</td>\n",
              "      <td>Sunday</td>\n",
              "      <td>6</td>\n",
              "      <td>6</td>\n",
              "      <td>17</td>\n",
              "      <td>18</td>\n",
              "      <td>2</td>\n",
              "      <td>2</td>\n",
              "      <td>Evening</td>\n",
              "      <td>Evening</td>\n",
              "    </tr>\n",
              "    <tr>\n",
              "      <th>3</th>\n",
              "      <td>id3744273</td>\n",
              "      <td>2</td>\n",
              "      <td>2016-01-05 09:44:31</td>\n",
              "      <td>2016-01-05 10:03:32</td>\n",
              "      <td>6</td>\n",
              "      <td>-73.961670</td>\n",
              "      <td>40.759720</td>\n",
              "      <td>-73.956779</td>\n",
              "      <td>40.780628</td>\n",
              "      <td>N</td>\n",
              "      <td>1141</td>\n",
              "      <td>Tuesday</td>\n",
              "      <td>Tuesday</td>\n",
              "      <td>1</td>\n",
              "      <td>1</td>\n",
              "      <td>9</td>\n",
              "      <td>10</td>\n",
              "      <td>1</td>\n",
              "      <td>1</td>\n",
              "      <td>Morning</td>\n",
              "      <td>Morning</td>\n",
              "    </tr>\n",
              "    <tr>\n",
              "      <th>4</th>\n",
              "      <td>id0232939</td>\n",
              "      <td>1</td>\n",
              "      <td>2016-02-17 06:42:23</td>\n",
              "      <td>2016-02-17 06:56:31</td>\n",
              "      <td>1</td>\n",
              "      <td>-74.017120</td>\n",
              "      <td>40.708469</td>\n",
              "      <td>-73.988182</td>\n",
              "      <td>40.740631</td>\n",
              "      <td>N</td>\n",
              "      <td>848</td>\n",
              "      <td>Wednesday</td>\n",
              "      <td>Wednesday</td>\n",
              "      <td>2</td>\n",
              "      <td>2</td>\n",
              "      <td>6</td>\n",
              "      <td>6</td>\n",
              "      <td>2</td>\n",
              "      <td>2</td>\n",
              "      <td>Morning</td>\n",
              "      <td>Morning</td>\n",
              "    </tr>\n",
              "  </tbody>\n",
              "</table>\n",
              "</div>"
            ],
            "text/plain": [
              "          id  vendor_id  ... pickup_timeofday dropoff_timeofday\n",
              "0  id1080784          2  ...          Evening           Evening\n",
              "1  id0889885          1  ...       Late night        Late night\n",
              "2  id0857912          2  ...          Evening           Evening\n",
              "3  id3744273          2  ...          Morning           Morning\n",
              "4  id0232939          1  ...          Morning           Morning\n",
              "\n",
              "[5 rows x 21 columns]"
            ]
          },
          "metadata": {
            "tags": []
          },
          "execution_count": 65
        }
      ]
    },
    {
      "cell_type": "markdown",
      "metadata": {
        "id": "YmGa4oHN-Iox"
      },
      "source": [
        "We also saw during dataset exploration that we have coordinates in the form of longitude and latitude for pickup and dropoff. But, we can’t really gather any insights or draw conclusions from that.\r\n",
        "So, the most obvious feature that we can extract from this is distance. Let us do that.\r\n",
        "\r\n",
        "Importing the library which lets us calculate distance from geographical coordinates.\r\n",
        "\r\n"
      ]
    },
    {
      "cell_type": "code",
      "metadata": {
        "id": "tjHFFgu-8t9d"
      },
      "source": [
        "from geopy.distance import great_circle"
      ],
      "execution_count": 66,
      "outputs": []
    },
    {
      "cell_type": "markdown",
      "metadata": {
        "id": "0AW_bkx5-YfJ"
      },
      "source": [
        "Defining a function to take coordinates as inputs and return us distance.\r\n"
      ]
    },
    {
      "cell_type": "code",
      "metadata": {
        "id": "TRsOR4RF-NqO"
      },
      "source": [
        "def cal_distance(pickup_lat,pickup_long,dropoff_lat,dropoff_long):\r\n",
        " \r\n",
        " start_coordinates=(pickup_lat,pickup_long)\r\n",
        " stop_coordinates=(dropoff_lat,dropoff_long)\r\n",
        " \r\n",
        " return great_circle(start_coordinates,stop_coordinates).km"
      ],
      "execution_count": 67,
      "outputs": []
    },
    {
      "cell_type": "markdown",
      "metadata": {
        "id": "nymESOpu-yoF"
      },
      "source": [
        "Finally, applying the function to our dataset and creating the feature ‘distance’."
      ]
    },
    {
      "cell_type": "code",
      "metadata": {
        "id": "d6jQn8si-lvY"
      },
      "source": [
        "data['distance'] = data.apply(lambda x: cal_distance(x['pickup_latitude'],x['pickup_longitude'],x['dropoff_latitude'],x['dropoff_longitude'] ), axis=1)"
      ],
      "execution_count": 94,
      "outputs": []
    },
    {
      "cell_type": "code",
      "metadata": {
        "colab": {
          "base_uri": "https://localhost:8080/",
          "height": 299
        },
        "id": "ONLfa4Qq-8Vu",
        "outputId": "30b4d357-a10b-4f4e-9465-42cb72b3a0da"
      },
      "source": [
        "data.head()"
      ],
      "execution_count": 95,
      "outputs": [
        {
          "output_type": "execute_result",
          "data": {
            "text/html": [
              "<div>\n",
              "<style scoped>\n",
              "    .dataframe tbody tr th:only-of-type {\n",
              "        vertical-align: middle;\n",
              "    }\n",
              "\n",
              "    .dataframe tbody tr th {\n",
              "        vertical-align: top;\n",
              "    }\n",
              "\n",
              "    .dataframe thead th {\n",
              "        text-align: right;\n",
              "    }\n",
              "</style>\n",
              "<table border=\"1\" class=\"dataframe\">\n",
              "  <thead>\n",
              "    <tr style=\"text-align: right;\">\n",
              "      <th></th>\n",
              "      <th>id</th>\n",
              "      <th>vendor_id</th>\n",
              "      <th>pickup_datetime</th>\n",
              "      <th>dropoff_datetime</th>\n",
              "      <th>passenger_count</th>\n",
              "      <th>pickup_longitude</th>\n",
              "      <th>pickup_latitude</th>\n",
              "      <th>dropoff_longitude</th>\n",
              "      <th>dropoff_latitude</th>\n",
              "      <th>store_and_fwd_flag</th>\n",
              "      <th>trip_duration</th>\n",
              "      <th>pickup_day</th>\n",
              "      <th>dropoff_day</th>\n",
              "      <th>pickup_day_no</th>\n",
              "      <th>dropoff_day_no</th>\n",
              "      <th>pickup_hour</th>\n",
              "      <th>dropoff_hour</th>\n",
              "      <th>pickup_month</th>\n",
              "      <th>dropoff_month</th>\n",
              "      <th>pickup_timeofday</th>\n",
              "      <th>dropoff_timeofday</th>\n",
              "      <th>distance</th>\n",
              "    </tr>\n",
              "  </thead>\n",
              "  <tbody>\n",
              "    <tr>\n",
              "      <th>0</th>\n",
              "      <td>id1080784</td>\n",
              "      <td>2</td>\n",
              "      <td>2016-02-29 16:40:21</td>\n",
              "      <td>2016-02-29 16:47:01</td>\n",
              "      <td>1</td>\n",
              "      <td>-73.953918</td>\n",
              "      <td>40.778873</td>\n",
              "      <td>-73.963875</td>\n",
              "      <td>40.771164</td>\n",
              "      <td>N</td>\n",
              "      <td>400</td>\n",
              "      <td>Monday</td>\n",
              "      <td>Monday</td>\n",
              "      <td>0</td>\n",
              "      <td>0</td>\n",
              "      <td>16</td>\n",
              "      <td>16</td>\n",
              "      <td>2</td>\n",
              "      <td>2</td>\n",
              "      <td>Evening</td>\n",
              "      <td>Evening</td>\n",
              "      <td>1.199074</td>\n",
              "    </tr>\n",
              "    <tr>\n",
              "      <th>1</th>\n",
              "      <td>id0889885</td>\n",
              "      <td>1</td>\n",
              "      <td>2016-03-11 23:35:37</td>\n",
              "      <td>2016-03-11 23:53:57</td>\n",
              "      <td>2</td>\n",
              "      <td>-73.988312</td>\n",
              "      <td>40.731743</td>\n",
              "      <td>-73.994751</td>\n",
              "      <td>40.694931</td>\n",
              "      <td>N</td>\n",
              "      <td>1100</td>\n",
              "      <td>Friday</td>\n",
              "      <td>Friday</td>\n",
              "      <td>4</td>\n",
              "      <td>4</td>\n",
              "      <td>23</td>\n",
              "      <td>23</td>\n",
              "      <td>3</td>\n",
              "      <td>3</td>\n",
              "      <td>Late night</td>\n",
              "      <td>Late night</td>\n",
              "      <td>4.129117</td>\n",
              "    </tr>\n",
              "    <tr>\n",
              "      <th>2</th>\n",
              "      <td>id0857912</td>\n",
              "      <td>2</td>\n",
              "      <td>2016-02-21 17:59:33</td>\n",
              "      <td>2016-02-21 18:26:48</td>\n",
              "      <td>2</td>\n",
              "      <td>-73.997314</td>\n",
              "      <td>40.721458</td>\n",
              "      <td>-73.948029</td>\n",
              "      <td>40.774918</td>\n",
              "      <td>N</td>\n",
              "      <td>1635</td>\n",
              "      <td>Sunday</td>\n",
              "      <td>Sunday</td>\n",
              "      <td>6</td>\n",
              "      <td>6</td>\n",
              "      <td>17</td>\n",
              "      <td>18</td>\n",
              "      <td>2</td>\n",
              "      <td>2</td>\n",
              "      <td>Evening</td>\n",
              "      <td>Evening</td>\n",
              "      <td>7.250763</td>\n",
              "    </tr>\n",
              "    <tr>\n",
              "      <th>3</th>\n",
              "      <td>id3744273</td>\n",
              "      <td>2</td>\n",
              "      <td>2016-01-05 09:44:31</td>\n",
              "      <td>2016-01-05 10:03:32</td>\n",
              "      <td>6</td>\n",
              "      <td>-73.961670</td>\n",
              "      <td>40.759720</td>\n",
              "      <td>-73.956779</td>\n",
              "      <td>40.780628</td>\n",
              "      <td>N</td>\n",
              "      <td>1141</td>\n",
              "      <td>Tuesday</td>\n",
              "      <td>Tuesday</td>\n",
              "      <td>1</td>\n",
              "      <td>1</td>\n",
              "      <td>9</td>\n",
              "      <td>10</td>\n",
              "      <td>1</td>\n",
              "      <td>1</td>\n",
              "      <td>Morning</td>\n",
              "      <td>Morning</td>\n",
              "      <td>2.361101</td>\n",
              "    </tr>\n",
              "    <tr>\n",
              "      <th>4</th>\n",
              "      <td>id0232939</td>\n",
              "      <td>1</td>\n",
              "      <td>2016-02-17 06:42:23</td>\n",
              "      <td>2016-02-17 06:56:31</td>\n",
              "      <td>1</td>\n",
              "      <td>-74.017120</td>\n",
              "      <td>40.708469</td>\n",
              "      <td>-73.988182</td>\n",
              "      <td>40.740631</td>\n",
              "      <td>N</td>\n",
              "      <td>848</td>\n",
              "      <td>Wednesday</td>\n",
              "      <td>Wednesday</td>\n",
              "      <td>2</td>\n",
              "      <td>2</td>\n",
              "      <td>6</td>\n",
              "      <td>6</td>\n",
              "      <td>2</td>\n",
              "      <td>2</td>\n",
              "      <td>Morning</td>\n",
              "      <td>Morning</td>\n",
              "      <td>4.328540</td>\n",
              "    </tr>\n",
              "  </tbody>\n",
              "</table>\n",
              "</div>"
            ],
            "text/plain": [
              "          id  vendor_id  ... dropoff_timeofday  distance\n",
              "0  id1080784          2  ...           Evening  1.199074\n",
              "1  id0889885          1  ...        Late night  4.129117\n",
              "2  id0857912          2  ...           Evening  7.250763\n",
              "3  id3744273          2  ...           Morning  2.361101\n",
              "4  id0232939          1  ...           Morning  4.328540\n",
              "\n",
              "[5 rows x 22 columns]"
            ]
          },
          "metadata": {
            "tags": []
          },
          "execution_count": 95
        }
      ]
    },
    {
      "cell_type": "markdown",
      "metadata": {
        "id": "F9lbA2X4_fmb"
      },
      "source": [
        "Thus, we successfully created some new features which we will analyze in univariate and bivariate analysis."
      ]
    },
    {
      "cell_type": "markdown",
      "metadata": {
        "id": "qY-XH4iW_jUk"
      },
      "source": [
        "**Univariate Analysis**\r\n",
        "\r\n",
        "The univariate analysis involves studying patterns of all variables individually.\r\n",
        "\r\n",
        "**Target Variable**\r\n",
        "\r\n",
        "Let us start by analyzing the target variable."
      ]
    },
    {
      "cell_type": "code",
      "metadata": {
        "colab": {
          "base_uri": "https://localhost:8080/",
          "height": 302
        },
        "id": "y23bPgwq_U2M",
        "outputId": "c9278544-b796-45f8-8456-2516bde798ee"
      },
      "source": [
        "sns.histplot(data['trip_duration'],kde=False,bins=20)"
      ],
      "execution_count": 70,
      "outputs": [
        {
          "output_type": "execute_result",
          "data": {
            "text/plain": [
              "<matplotlib.axes._subplots.AxesSubplot at 0x7f76784ffc88>"
            ]
          },
          "metadata": {
            "tags": []
          },
          "execution_count": 70
        },
        {
          "output_type": "display_data",
          "data": {
            "image/png": "[encoded data removed]",
            "text/plain": [
              "<Figure size 432x288 with 1 Axes>"
            ]
          },
          "metadata": {
            "tags": [],
            "needs_background": "light"
          }
        }
      ]
    },
    {
      "cell_type": "code",
      "metadata": {
        "colab": {
          "base_uri": "https://localhost:8080/",
          "height": 302
        },
        "id": "LssYxG9Q_uSY",
        "outputId": "9d385b9e-b5ba-42db-8a9e-8603f1d44649"
      },
      "source": [
        "#The histogram is really skewed as we can see.\r\n",
        "\r\n",
        "#Let us also look at the boxplot.\r\n",
        "\r\n",
        "sns.boxplot(data['trip_duration'])"
      ],
      "execution_count": 71,
      "outputs": [
        {
          "output_type": "execute_result",
          "data": {
            "text/plain": [
              "<matplotlib.axes._subplots.AxesSubplot at 0x7f7651e056a0>"
            ]
          },
          "metadata": {
            "tags": []
          },
          "execution_count": 71
        },
        {
          "output_type": "display_data",
          "data": {
            "image/png": "[encoded data removed]",
            "text/plain": [
              "<Figure size 432x288 with 1 Axes>"
            ]
          },
          "metadata": {
            "tags": [],
            "needs_background": "light"
          }
        }
      ]
    },
    {
      "cell_type": "markdown",
      "metadata": {
        "id": "xiHgKABnACAq"
      },
      "source": [
        "We can clearly see an outlier.\r\n"
      ]
    },
    {
      "cell_type": "code",
      "metadata": {
        "colab": {
          "base_uri": "https://localhost:8080/"
        },
        "id": "bh9D_Jt5_5Pv",
        "outputId": "cc78d91b-0aea-40e3-bdcc-bc00b01530eb"
      },
      "source": [
        "data['trip_duration'].sort_values(ascending=False)"
      ],
      "execution_count": 72,
      "outputs": [
        {
          "output_type": "execute_result",
          "data": {
            "text/plain": [
              "21813     1939736\n",
              "259437      86391\n",
              "119185      86387\n",
              "177225      86378\n",
              "496391      86377\n",
              "           ...   \n",
              "312992          1\n",
              "398887          1\n",
              "622664          1\n",
              "323299          1\n",
              "296874          1\n",
              "Name: trip_duration, Length: 729322, dtype: int64"
            ]
          },
          "metadata": {
            "tags": []
          },
          "execution_count": 72
        }
      ]
    },
    {
      "cell_type": "markdown",
      "metadata": {
        "id": "SZICOWpHAI2v"
      },
      "source": [
        "We can see that there is an entry which is significantly different from others.\r\n",
        "\r\n",
        "As there is a single row only, let us drop this row."
      ]
    },
    {
      "cell_type": "code",
      "metadata": {
        "id": "nB2-8ZlJAFo6"
      },
      "source": [
        "data.drop(data[data['trip_duration'] == 1939736].index, inplace = True)"
      ],
      "execution_count": 73,
      "outputs": []
    },
    {
      "cell_type": "code",
      "metadata": {
        "colab": {
          "base_uri": "https://localhost:8080/"
        },
        "id": "Kw4K-Rh4AOk3",
        "outputId": "cca105fd-3062-4aa7-d92e-2005de8b57e1"
      },
      "source": [
        "data['trip_duration'].sort_values(ascending=False)"
      ],
      "execution_count": 74,
      "outputs": [
        {
          "output_type": "execute_result",
          "data": {
            "text/plain": [
              "259437    86391\n",
              "119185    86387\n",
              "177225    86378\n",
              "496391    86377\n",
              "90557     86369\n",
              "          ...  \n",
              "398887        1\n",
              "95823         1\n",
              "323299        1\n",
              "533760        1\n",
              "102646        1\n",
              "Name: trip_duration, Length: 729321, dtype: int64"
            ]
          },
          "metadata": {
            "tags": []
          },
          "execution_count": 74
        }
      ]
    },
    {
      "cell_type": "code",
      "metadata": {
        "colab": {
          "base_uri": "https://localhost:8080/",
          "height": 302
        },
        "id": "Ss-xmTnoAWwV",
        "outputId": "032ed8e6-c461-4eb6-dd70-97a51d5a9f4e"
      },
      "source": [
        "#Vendor id\r\n",
        "sns.countplot(x='vendor_id',data=data)"
      ],
      "execution_count": 75,
      "outputs": [
        {
          "output_type": "execute_result",
          "data": {
            "text/plain": [
              "<matplotlib.axes._subplots.AxesSubplot at 0x7f7650a0e4e0>"
            ]
          },
          "metadata": {
            "tags": []
          },
          "execution_count": 75
        },
        {
          "output_type": "display_data",
          "data": {
            "image/png": "[encoded data removed]",
            "text/plain": [
              "<Figure size 432x288 with 1 Axes>"
            ]
          },
          "metadata": {
            "tags": [],
            "needs_background": "light"
          }
        }
      ]
    },
    {
      "cell_type": "markdown",
      "metadata": {
        "id": "FH6nswKuAwhc"
      },
      "source": [
        "We see that there is not much difference between the trips taken by both vendors."
      ]
    },
    {
      "cell_type": "code",
      "metadata": {
        "colab": {
          "base_uri": "https://localhost:8080/"
        },
        "id": "Pf4Flf6QAdJg",
        "outputId": "e1b7fb6e-ae24-4ac8-ac67-593bca9d9b2e"
      },
      "source": [
        "#Passenger Count\r\n",
        "data.passenger_count.value_counts()"
      ],
      "execution_count": 76,
      "outputs": [
        {
          "output_type": "execute_result",
          "data": {
            "text/plain": [
              "1    517414\n",
              "2    105097\n",
              "5     38926\n",
              "3     29692\n",
              "6     24107\n",
              "4     14050\n",
              "0        33\n",
              "9         1\n",
              "7         1\n",
              "Name: passenger_count, dtype: int64"
            ]
          },
          "metadata": {
            "tags": []
          },
          "execution_count": 76
        }
      ]
    },
    {
      "cell_type": "markdown",
      "metadata": {
        "id": "hQCH8tiyBFzB"
      },
      "source": [
        "There are some trips with even 0 passenger count.\r\n",
        "\r\n",
        "There is only 1 trip each for 7 and 9 passengers."
      ]
    },
    {
      "cell_type": "code",
      "metadata": {
        "colab": {
          "base_uri": "https://localhost:8080/",
          "height": 302
        },
        "id": "kvDMmMtAA7Vd",
        "outputId": "31d4b292-a54c-4da0-fcc8-ec501355dde2"
      },
      "source": [
        "sns.countplot(x='passenger_count',data=data)"
      ],
      "execution_count": 77,
      "outputs": [
        {
          "output_type": "execute_result",
          "data": {
            "text/plain": [
              "<matplotlib.axes._subplots.AxesSubplot at 0x7f7660eee518>"
            ]
          },
          "metadata": {
            "tags": []
          },
          "execution_count": 77
        },
        {
          "output_type": "display_data",
          "data": {
            "image/png": "[encoded data removed]",
            "text/plain": [
              "<Figure size 432x288 with 1 Axes>"
            ]
          },
          "metadata": {
            "tags": [],
            "needs_background": "light"
          }
        }
      ]
    },
    {
      "cell_type": "markdown",
      "metadata": {
        "id": "9NMZX9qXBUvb"
      },
      "source": [
        "We see the highest amount of trips are with 1 passenger.\r\n",
        "\r\n",
        "Let us remove the rows which have 0 or 7 or 9 passenger count."
      ]
    },
    {
      "cell_type": "code",
      "metadata": {
        "id": "xdtXUhZJBKNL"
      },
      "source": [
        "data=data[data['passenger_count']!=0]\r\n",
        "\r\n",
        "data=data[data['passenger_count']<=6]"
      ],
      "execution_count": 78,
      "outputs": []
    },
    {
      "cell_type": "code",
      "metadata": {
        "colab": {
          "base_uri": "https://localhost:8080/",
          "height": 302
        },
        "id": "92Jr8ivJBY0T",
        "outputId": "e14f2b48-8571-436a-cd42-161319ec8a88"
      },
      "source": [
        "sns.countplot(x='passenger_count',data=data)"
      ],
      "execution_count": 79,
      "outputs": [
        {
          "output_type": "execute_result",
          "data": {
            "text/plain": [
              "<matplotlib.axes._subplots.AxesSubplot at 0x7f7660e47d30>"
            ]
          },
          "metadata": {
            "tags": []
          },
          "execution_count": 79
        },
        {
          "output_type": "display_data",
          "data": {
            "image/png": "[encoded data removed]",
            "text/plain": [
              "<Figure size 432x288 with 1 Axes>"
            ]
          },
          "metadata": {
            "tags": [],
            "needs_background": "light"
          }
        }
      ]
    },
    {
      "cell_type": "markdown",
      "metadata": {
        "id": "E6arlZCzBsVK"
      },
      "source": [
        "Now, that seems like a fair distribution."
      ]
    },
    {
      "cell_type": "code",
      "metadata": {
        "colab": {
          "base_uri": "https://localhost:8080/"
        },
        "id": "d3HUP_YkBmtu",
        "outputId": "27b7af6b-4deb-47a8-f539-e2a3ff61bb48"
      },
      "source": [
        "#Store and Forward Flag\r\n",
        "\r\n",
        "data['store_and_fwd_flag'].value_counts(normalize=True)"
      ],
      "execution_count": 80,
      "outputs": [
        {
          "output_type": "execute_result",
          "data": {
            "text/plain": [
              "N    0.994463\n",
              "Y    0.005537\n",
              "Name: store_and_fwd_flag, dtype: float64"
            ]
          },
          "metadata": {
            "tags": []
          },
          "execution_count": 80
        }
      ]
    },
    {
      "cell_type": "markdown",
      "metadata": {
        "id": "cyaFhYwTB4Xv"
      },
      "source": [
        "We see there are less than 1% of trips that were stored before forwarding."
      ]
    },
    {
      "cell_type": "code",
      "metadata": {
        "colab": {
          "base_uri": "https://localhost:8080/"
        },
        "id": "O2CineBAByJt",
        "outputId": "d69ae4a3-58e6-4348-d3ae-0c3e118e4382"
      },
      "source": [
        "#Distance\r\n",
        "\r\n",
        "data['distance'].value_counts()\r\n"
      ],
      "execution_count": 81,
      "outputs": [
        {
          "output_type": "execute_result",
          "data": {
            "text/plain": [
              "0.000000    2893\n",
              "0.000424      23\n",
              "0.000424      20\n",
              "0.000424      19\n",
              "0.000424      11\n",
              "            ... \n",
              "6.670588       1\n",
              "1.053985       1\n",
              "4.718984       1\n",
              "6.100024       1\n",
              "1.614936       1\n",
              "Name: distance, Length: 726218, dtype: int64"
            ]
          },
          "metadata": {
            "tags": []
          },
          "execution_count": 81
        }
      ]
    },
    {
      "cell_type": "markdown",
      "metadata": {
        "id": "wPn1LIUWCDwG"
      },
      "source": [
        "We see there are 2893 trips with 0 km distance.\r\n",
        "\r\n",
        "The reasons for 0 km distance can be:\r\n",
        "\r\n",
        "The dropoff location couldn’t be tracked.\r\n",
        "\r\n",
        "The driver deliberately took this ride to complete a target ride number.\r\n",
        "\r\n",
        "The passengers canceled the trip.\r\n",
        "\r\n",
        "We will analyze these trips further in bivariate analysis."
      ]
    },
    {
      "cell_type": "code",
      "metadata": {
        "colab": {
          "base_uri": "https://localhost:8080/",
          "height": 331
        },
        "id": "QZgrGkzUB-Os",
        "outputId": "d9717b1b-f93d-4674-c88c-36f2411c51f7"
      },
      "source": [
        "#Trips per Day\r\n",
        "\r\n",
        "figure,(ax1,ax2)=plt.subplots(ncols=2,figsize=(20,5))\r\n",
        "ax1.set_title('Pickup Days')\r\n",
        "\r\n",
        "ax=sns.countplot(x=\"pickup_day\",data=data,ax=ax1)\r\n",
        "\r\n",
        "ax2.set_title('Dropoff Days')\r\n",
        "ax=sns.countplot(x=\"dropoff_day\",data=data,ax=ax2)\r\n"
      ],
      "execution_count": 82,
      "outputs": [
        {
          "output_type": "display_data",
          "data": {
            "image/png": "[encoded data removed]",
            "text/plain": [
              "<Figure size 1440x360 with 2 Axes>"
            ]
          },
          "metadata": {
            "tags": [],
            "needs_background": "light"
          }
        }
      ]
    },
    {
      "cell_type": "markdown",
      "metadata": {
        "id": "IQl5CSE5EDTN"
      },
      "source": [
        "We see Fridays are the busiest days followed by Saturdays. \r\n",
        "\r\n",
        "That is probably because it’s weekend."
      ]
    },
    {
      "cell_type": "code",
      "metadata": {
        "colab": {
          "base_uri": "https://localhost:8080/",
          "height": 333
        },
        "id": "IWhrnId2D8gI",
        "outputId": "3857defd-7db1-4223-9ec0-f5b0e12b6a4e"
      },
      "source": [
        "#Trips per Hour\r\n",
        "\r\n",
        "figure,(ax9,ax10)=plt.subplots(ncols=2,figsize=(20,5))\r\n",
        "\r\n",
        "ax9.set_title('Pickup Days')\r\n",
        "ax=sns.countplot(x=\"pickup_hour\",data=data,ax=ax9)\r\n",
        "\r\n",
        "ax10.set_title('Dropoff Days')\r\n",
        "ax=sns.countplot(x=\"dropoff_hour\",data=data,ax=ax10)"
      ],
      "execution_count": 83,
      "outputs": [
        {
          "output_type": "display_data",
          "data": {
            "image/png": "[encoded data removed]",
            "text/plain": [
              "<Figure size 1440x360 with 2 Axes>"
            ]
          },
          "metadata": {
            "tags": [],
            "needs_background": "light"
          }
        }
      ]
    },
    {
      "cell_type": "markdown",
      "metadata": {
        "id": "HjjweeBPErM1"
      },
      "source": [
        "We see the busiest hours are 6:00 pm to 7:00 pm and that makes sense as this is the time when people return from their offices."
      ]
    },
    {
      "cell_type": "code",
      "metadata": {
        "colab": {
          "base_uri": "https://localhost:8080/",
          "height": 331
        },
        "id": "Kc-fQMWHETG9",
        "outputId": "70800fae-0cd3-4f56-99f1-f4997dcdbc15"
      },
      "source": [
        "#Trips per Time of Day\r\n",
        "\r\n",
        "figure,(ax3,ax4)=plt.subplots(ncols=2,figsize=(20,5))\r\n",
        "\r\n",
        "ax3.set_title('Pickup Time of Day')\r\n",
        "ax=sns.countplot(x=\"pickup_timeofday\",data=data,ax=ax3)\r\n",
        "\r\n",
        "ax4.set_title('Dropoff Time of Day')\r\n",
        "ax=sns.countplot(x=\"dropoff_timeofday\",data=data,ax=ax4)\r\n"
      ],
      "execution_count": 84,
      "outputs": [
        {
          "output_type": "display_data",
          "data": {
            "image/png": "[encoded data removed]",
            "text/plain": [
              "<Figure size 1440x360 with 2 Axes>"
            ]
          },
          "metadata": {
            "tags": [],
            "needs_background": "light"
          }
        }
      ]
    },
    {
      "cell_type": "markdown",
      "metadata": {
        "id": "260G7B_tE2Cp"
      },
      "source": [
        "Evenings are the busiest."
      ]
    },
    {
      "cell_type": "code",
      "metadata": {
        "colab": {
          "base_uri": "https://localhost:8080/",
          "height": 331
        },
        "id": "Tnv-zQlUEwxY",
        "outputId": "527c54ac-0138-4be8-a09c-d2ee029d6833"
      },
      "source": [
        "#Trips per month\r\n",
        "\r\n",
        "figure,(ax11,ax12)=plt.subplots(ncols=2,figsize=(20,5))\r\n",
        "ax11.set_title('Pickup Month')\r\n",
        "ax=sns.countplot(x=\"pickup_month\",data=data,ax=ax11)\r\n",
        "\r\n",
        "ax12.set_title('Dropoff Month')\r\n",
        "ax=sns.countplot(x=\"dropoff_month\",data=data,ax=ax12)"
      ],
      "execution_count": 85,
      "outputs": [
        {
          "output_type": "display_data",
          "data": {
            "image/png": "[encoded data removed]",
            "text/plain": [
              "<Figure size 1440x360 with 2 Axes>"
            ]
          },
          "metadata": {
            "tags": [],
            "needs_background": "light"
          }
        }
      ]
    },
    {
      "cell_type": "markdown",
      "metadata": {
        "id": "l0tRN-mOFKSw"
      },
      "source": [
        "There is not much difference in the number of trips across months.\r\n",
        "\r\n",
        "Now, we will analyze all these variables further in bivariate analysis."
      ]
    },
    {
      "cell_type": "markdown",
      "metadata": {
        "id": "iBz6h37FFh_l"
      },
      "source": [
        "**Bivariate Analysis**\r\n",
        "\r\n",
        "Bivariate Analysis involves finding relationships, patterns, and correlations between two variables.\r\n",
        "\r\n",
        " "
      ]
    },
    {
      "cell_type": "code",
      "metadata": {
        "colab": {
          "base_uri": "https://localhost:8080/",
          "height": 302
        },
        "id": "4ynNSdOXFE5h",
        "outputId": "b28fe8e3-08cb-46d1-b769-e19d28ca3413"
      },
      "source": [
        "#Trip Duration per Vendor\r\n",
        "sns.barplot(y='trip_duration',x='vendor_id',data=data,estimator=np.mean)"
      ],
      "execution_count": 86,
      "outputs": [
        {
          "output_type": "execute_result",
          "data": {
            "text/plain": [
              "<matplotlib.axes._subplots.AxesSubplot at 0x7f7660db9208>"
            ]
          },
          "metadata": {
            "tags": []
          },
          "execution_count": 86
        },
        {
          "output_type": "display_data",
          "data": {
            "image/png": "[encoded data removed]",
            "text/plain": [
              "<Figure size 432x288 with 1 Axes>"
            ]
          },
          "metadata": {
            "tags": [],
            "needs_background": "light"
          }
        }
      ]
    },
    {
      "cell_type": "markdown",
      "metadata": {
        "id": "JHA7gyylG7wY"
      },
      "source": [
        "Vendor id 2 takes longer trips as compared to vendor 1."
      ]
    },
    {
      "cell_type": "code",
      "metadata": {
        "colab": {
          "base_uri": "https://localhost:8080/",
          "height": 403
        },
        "id": "pY9_zqt1Gvxq",
        "outputId": "59cd743f-c709-4151-a912-0811f9e88006"
      },
      "source": [
        "#Trip Duration per Store and Forward Flag\r\n",
        "\r\n",
        "sns.catplot(y='trip_duration',x='store_and_fwd_flag',data=data,kind=\"strip\")"
      ],
      "execution_count": 87,
      "outputs": [
        {
          "output_type": "execute_result",
          "data": {
            "text/plain": [
              "<seaborn.axisgrid.FacetGrid at 0x7f7660a65240>"
            ]
          },
          "metadata": {
            "tags": []
          },
          "execution_count": 87
        },
        {
          "output_type": "display_data",
          "data": {
            "image/png": "[encoded data removed]",
            "text/plain": [
              "<Figure size 360x360 with 1 Axes>"
            ]
          },
          "metadata": {
            "tags": [],
            "needs_background": "light"
          }
        }
      ]
    },
    {
      "cell_type": "markdown",
      "metadata": {
        "id": "SZe0Bs0YIpxX"
      },
      "source": [
        "Trip duration is generally longer for trips whose flag was not stored."
      ]
    },
    {
      "cell_type": "code",
      "metadata": {
        "colab": {
          "base_uri": "https://localhost:8080/",
          "height": 403
        },
        "id": "rQmCnFLXHjPn",
        "outputId": "ca0ee9e7-8fda-4ed8-aef0-3db52b17112d"
      },
      "source": [
        "#Trip Duration per passenger count\r\n",
        "sns.catplot(y='trip_duration',x='passenger_count',data=data,kind=\"strip\")"
      ],
      "execution_count": 88,
      "outputs": [
        {
          "output_type": "execute_result",
          "data": {
            "text/plain": [
              "<seaborn.axisgrid.FacetGrid at 0x7f7650a0e8d0>"
            ]
          },
          "metadata": {
            "tags": []
          },
          "execution_count": 88
        },
        {
          "output_type": "display_data",
          "data": {
            "image/png": "[encoded data removed]",
            "text/plain": [
              "<Figure size 360x360 with 1 Axes>"
            ]
          },
          "metadata": {
            "tags": [],
            "needs_background": "light"
          }
        }
      ]
    },
    {
      "cell_type": "markdown",
      "metadata": {
        "id": "YAsSdaNkRAeM"
      },
      "source": [
        "There is no visible relation between trip duration and passenger count."
      ]
    },
    {
      "cell_type": "code",
      "metadata": {
        "colab": {
          "base_uri": "https://localhost:8080/",
          "height": 299
        },
        "id": "P6SGAlHmI00C",
        "outputId": "1c731b66-521e-4bcb-be1c-7a78f8fb49b2"
      },
      "source": [
        "data[data.distance==0].head()"
      ],
      "execution_count": 89,
      "outputs": [
        {
          "output_type": "execute_result",
          "data": {
            "text/html": [
              "<div>\n",
              "<style scoped>\n",
              "    .dataframe tbody tr th:only-of-type {\n",
              "        vertical-align: middle;\n",
              "    }\n",
              "\n",
              "    .dataframe tbody tr th {\n",
              "        vertical-align: top;\n",
              "    }\n",
              "\n",
              "    .dataframe thead th {\n",
              "        text-align: right;\n",
              "    }\n",
              "</style>\n",
              "<table border=\"1\" class=\"dataframe\">\n",
              "  <thead>\n",
              "    <tr style=\"text-align: right;\">\n",
              "      <th></th>\n",
              "      <th>id</th>\n",
              "      <th>vendor_id</th>\n",
              "      <th>pickup_datetime</th>\n",
              "      <th>dropoff_datetime</th>\n",
              "      <th>passenger_count</th>\n",
              "      <th>pickup_longitude</th>\n",
              "      <th>pickup_latitude</th>\n",
              "      <th>dropoff_longitude</th>\n",
              "      <th>dropoff_latitude</th>\n",
              "      <th>store_and_fwd_flag</th>\n",
              "      <th>trip_duration</th>\n",
              "      <th>pickup_day</th>\n",
              "      <th>dropoff_day</th>\n",
              "      <th>pickup_day_no</th>\n",
              "      <th>dropoff_day_no</th>\n",
              "      <th>pickup_hour</th>\n",
              "      <th>dropoff_hour</th>\n",
              "      <th>pickup_month</th>\n",
              "      <th>dropoff_month</th>\n",
              "      <th>pickup_timeofday</th>\n",
              "      <th>dropoff_timeofday</th>\n",
              "      <th>distance</th>\n",
              "    </tr>\n",
              "  </thead>\n",
              "  <tbody>\n",
              "    <tr>\n",
              "      <th>263</th>\n",
              "      <td>id3155891</td>\n",
              "      <td>2</td>\n",
              "      <td>2016-06-28 11:21:00</td>\n",
              "      <td>2016-06-28 11:25:00</td>\n",
              "      <td>2</td>\n",
              "      <td>-73.996422</td>\n",
              "      <td>40.298828</td>\n",
              "      <td>-73.996422</td>\n",
              "      <td>40.298828</td>\n",
              "      <td>N</td>\n",
              "      <td>240</td>\n",
              "      <td>Tuesday</td>\n",
              "      <td>Tuesday</td>\n",
              "      <td>1</td>\n",
              "      <td>1</td>\n",
              "      <td>11</td>\n",
              "      <td>11</td>\n",
              "      <td>6</td>\n",
              "      <td>6</td>\n",
              "      <td>Morning</td>\n",
              "      <td>Morning</td>\n",
              "      <td>0.0</td>\n",
              "    </tr>\n",
              "    <tr>\n",
              "      <th>327</th>\n",
              "      <td>id0786923</td>\n",
              "      <td>2</td>\n",
              "      <td>2016-03-26 13:34:38</td>\n",
              "      <td>2016-03-26 13:37:17</td>\n",
              "      <td>1</td>\n",
              "      <td>-73.996323</td>\n",
              "      <td>40.753460</td>\n",
              "      <td>-73.996323</td>\n",
              "      <td>40.753460</td>\n",
              "      <td>N</td>\n",
              "      <td>159</td>\n",
              "      <td>Saturday</td>\n",
              "      <td>Saturday</td>\n",
              "      <td>5</td>\n",
              "      <td>5</td>\n",
              "      <td>13</td>\n",
              "      <td>13</td>\n",
              "      <td>3</td>\n",
              "      <td>3</td>\n",
              "      <td>Afternoon</td>\n",
              "      <td>Afternoon</td>\n",
              "      <td>0.0</td>\n",
              "    </tr>\n",
              "    <tr>\n",
              "      <th>795</th>\n",
              "      <td>id2323213</td>\n",
              "      <td>2</td>\n",
              "      <td>2016-06-13 16:49:52</td>\n",
              "      <td>2016-06-13 17:04:49</td>\n",
              "      <td>5</td>\n",
              "      <td>-73.967171</td>\n",
              "      <td>40.763500</td>\n",
              "      <td>-73.967171</td>\n",
              "      <td>40.763500</td>\n",
              "      <td>N</td>\n",
              "      <td>897</td>\n",
              "      <td>Monday</td>\n",
              "      <td>Monday</td>\n",
              "      <td>0</td>\n",
              "      <td>0</td>\n",
              "      <td>16</td>\n",
              "      <td>17</td>\n",
              "      <td>6</td>\n",
              "      <td>6</td>\n",
              "      <td>Evening</td>\n",
              "      <td>Evening</td>\n",
              "      <td>0.0</td>\n",
              "    </tr>\n",
              "    <tr>\n",
              "      <th>1176</th>\n",
              "      <td>id3235868</td>\n",
              "      <td>1</td>\n",
              "      <td>2016-02-29 21:39:52</td>\n",
              "      <td>2016-02-29 21:44:08</td>\n",
              "      <td>1</td>\n",
              "      <td>-73.995232</td>\n",
              "      <td>40.744038</td>\n",
              "      <td>-73.995232</td>\n",
              "      <td>40.744038</td>\n",
              "      <td>N</td>\n",
              "      <td>256</td>\n",
              "      <td>Monday</td>\n",
              "      <td>Monday</td>\n",
              "      <td>0</td>\n",
              "      <td>0</td>\n",
              "      <td>21</td>\n",
              "      <td>21</td>\n",
              "      <td>2</td>\n",
              "      <td>2</td>\n",
              "      <td>Evening</td>\n",
              "      <td>Evening</td>\n",
              "      <td>0.0</td>\n",
              "    </tr>\n",
              "    <tr>\n",
              "      <th>1257</th>\n",
              "      <td>id1865738</td>\n",
              "      <td>2</td>\n",
              "      <td>2016-03-13 11:38:36</td>\n",
              "      <td>2016-03-13 12:00:46</td>\n",
              "      <td>2</td>\n",
              "      <td>-73.912781</td>\n",
              "      <td>40.804428</td>\n",
              "      <td>-73.912781</td>\n",
              "      <td>40.804428</td>\n",
              "      <td>N</td>\n",
              "      <td>1330</td>\n",
              "      <td>Sunday</td>\n",
              "      <td>Sunday</td>\n",
              "      <td>6</td>\n",
              "      <td>6</td>\n",
              "      <td>11</td>\n",
              "      <td>12</td>\n",
              "      <td>3</td>\n",
              "      <td>3</td>\n",
              "      <td>Morning</td>\n",
              "      <td>Afternoon</td>\n",
              "      <td>0.0</td>\n",
              "    </tr>\n",
              "  </tbody>\n",
              "</table>\n",
              "</div>"
            ],
            "text/plain": [
              "             id  vendor_id  ... dropoff_timeofday distance\n",
              "263   id3155891          2  ...           Morning      0.0\n",
              "327   id0786923          2  ...         Afternoon      0.0\n",
              "795   id2323213          2  ...           Evening      0.0\n",
              "1176  id3235868          1  ...           Evening      0.0\n",
              "1257  id1865738          2  ...         Afternoon      0.0\n",
              "\n",
              "[5 rows x 22 columns]"
            ]
          },
          "metadata": {
            "tags": []
          },
          "execution_count": 89
        }
      ]
    },
    {
      "cell_type": "code",
      "metadata": {
        "colab": {
          "base_uri": "https://localhost:8080/",
          "height": 299
        },
        "id": "xdhtMo1FRNlp",
        "outputId": "06cea171-75d3-43c9-91f6-c68545e054e2"
      },
      "source": [
        "data[data.distance==0].tail()"
      ],
      "execution_count": 90,
      "outputs": [
        {
          "output_type": "execute_result",
          "data": {
            "text/html": [
              "<div>\n",
              "<style scoped>\n",
              "    .dataframe tbody tr th:only-of-type {\n",
              "        vertical-align: middle;\n",
              "    }\n",
              "\n",
              "    .dataframe tbody tr th {\n",
              "        vertical-align: top;\n",
              "    }\n",
              "\n",
              "    .dataframe thead th {\n",
              "        text-align: right;\n",
              "    }\n",
              "</style>\n",
              "<table border=\"1\" class=\"dataframe\">\n",
              "  <thead>\n",
              "    <tr style=\"text-align: right;\">\n",
              "      <th></th>\n",
              "      <th>id</th>\n",
              "      <th>vendor_id</th>\n",
              "      <th>pickup_datetime</th>\n",
              "      <th>dropoff_datetime</th>\n",
              "      <th>passenger_count</th>\n",
              "      <th>pickup_longitude</th>\n",
              "      <th>pickup_latitude</th>\n",
              "      <th>dropoff_longitude</th>\n",
              "      <th>dropoff_latitude</th>\n",
              "      <th>store_and_fwd_flag</th>\n",
              "      <th>trip_duration</th>\n",
              "      <th>pickup_day</th>\n",
              "      <th>dropoff_day</th>\n",
              "      <th>pickup_day_no</th>\n",
              "      <th>dropoff_day_no</th>\n",
              "      <th>pickup_hour</th>\n",
              "      <th>dropoff_hour</th>\n",
              "      <th>pickup_month</th>\n",
              "      <th>dropoff_month</th>\n",
              "      <th>pickup_timeofday</th>\n",
              "      <th>dropoff_timeofday</th>\n",
              "      <th>distance</th>\n",
              "    </tr>\n",
              "  </thead>\n",
              "  <tbody>\n",
              "    <tr>\n",
              "      <th>728720</th>\n",
              "      <td>id3423342</td>\n",
              "      <td>2</td>\n",
              "      <td>2016-05-05 21:32:43</td>\n",
              "      <td>2016-05-05 21:32:57</td>\n",
              "      <td>2</td>\n",
              "      <td>-73.977898</td>\n",
              "      <td>40.766392</td>\n",
              "      <td>-73.977898</td>\n",
              "      <td>40.766392</td>\n",
              "      <td>N</td>\n",
              "      <td>14</td>\n",
              "      <td>Thursday</td>\n",
              "      <td>Thursday</td>\n",
              "      <td>3</td>\n",
              "      <td>3</td>\n",
              "      <td>21</td>\n",
              "      <td>21</td>\n",
              "      <td>5</td>\n",
              "      <td>5</td>\n",
              "      <td>Evening</td>\n",
              "      <td>Evening</td>\n",
              "      <td>0.0</td>\n",
              "    </tr>\n",
              "    <tr>\n",
              "      <th>728775</th>\n",
              "      <td>id2618105</td>\n",
              "      <td>2</td>\n",
              "      <td>2016-03-13 20:06:40</td>\n",
              "      <td>2016-03-13 20:14:24</td>\n",
              "      <td>1</td>\n",
              "      <td>-73.974258</td>\n",
              "      <td>40.759895</td>\n",
              "      <td>-73.974258</td>\n",
              "      <td>40.759895</td>\n",
              "      <td>N</td>\n",
              "      <td>464</td>\n",
              "      <td>Sunday</td>\n",
              "      <td>Sunday</td>\n",
              "      <td>6</td>\n",
              "      <td>6</td>\n",
              "      <td>20</td>\n",
              "      <td>20</td>\n",
              "      <td>3</td>\n",
              "      <td>3</td>\n",
              "      <td>Evening</td>\n",
              "      <td>Evening</td>\n",
              "      <td>0.0</td>\n",
              "    </tr>\n",
              "    <tr>\n",
              "      <th>728838</th>\n",
              "      <td>id1232120</td>\n",
              "      <td>2</td>\n",
              "      <td>2016-05-29 04:04:32</td>\n",
              "      <td>2016-05-29 04:11:33</td>\n",
              "      <td>2</td>\n",
              "      <td>-73.984558</td>\n",
              "      <td>40.750839</td>\n",
              "      <td>-73.984558</td>\n",
              "      <td>40.750839</td>\n",
              "      <td>N</td>\n",
              "      <td>421</td>\n",
              "      <td>Sunday</td>\n",
              "      <td>Sunday</td>\n",
              "      <td>6</td>\n",
              "      <td>6</td>\n",
              "      <td>4</td>\n",
              "      <td>4</td>\n",
              "      <td>5</td>\n",
              "      <td>5</td>\n",
              "      <td>Late night</td>\n",
              "      <td>Late night</td>\n",
              "      <td>0.0</td>\n",
              "    </tr>\n",
              "    <tr>\n",
              "      <th>729025</th>\n",
              "      <td>id3524028</td>\n",
              "      <td>2</td>\n",
              "      <td>2016-04-06 18:03:34</td>\n",
              "      <td>2016-04-06 18:26:23</td>\n",
              "      <td>1</td>\n",
              "      <td>-74.083611</td>\n",
              "      <td>40.632401</td>\n",
              "      <td>-74.083611</td>\n",
              "      <td>40.632401</td>\n",
              "      <td>N</td>\n",
              "      <td>1369</td>\n",
              "      <td>Wednesday</td>\n",
              "      <td>Wednesday</td>\n",
              "      <td>2</td>\n",
              "      <td>2</td>\n",
              "      <td>18</td>\n",
              "      <td>18</td>\n",
              "      <td>4</td>\n",
              "      <td>4</td>\n",
              "      <td>Evening</td>\n",
              "      <td>Evening</td>\n",
              "      <td>0.0</td>\n",
              "    </tr>\n",
              "    <tr>\n",
              "      <th>729308</th>\n",
              "      <td>id3477255</td>\n",
              "      <td>2</td>\n",
              "      <td>2016-01-20 08:22:38</td>\n",
              "      <td>2016-01-20 08:47:35</td>\n",
              "      <td>1</td>\n",
              "      <td>-73.977859</td>\n",
              "      <td>40.749538</td>\n",
              "      <td>-73.977859</td>\n",
              "      <td>40.749538</td>\n",
              "      <td>N</td>\n",
              "      <td>1497</td>\n",
              "      <td>Wednesday</td>\n",
              "      <td>Wednesday</td>\n",
              "      <td>2</td>\n",
              "      <td>2</td>\n",
              "      <td>8</td>\n",
              "      <td>8</td>\n",
              "      <td>1</td>\n",
              "      <td>1</td>\n",
              "      <td>Morning</td>\n",
              "      <td>Morning</td>\n",
              "      <td>0.0</td>\n",
              "    </tr>\n",
              "  </tbody>\n",
              "</table>\n",
              "</div>"
            ],
            "text/plain": [
              "               id  vendor_id  ... dropoff_timeofday distance\n",
              "728720  id3423342          2  ...           Evening      0.0\n",
              "728775  id2618105          2  ...           Evening      0.0\n",
              "728838  id1232120          2  ...        Late night      0.0\n",
              "729025  id3524028          2  ...           Evening      0.0\n",
              "729308  id3477255          2  ...           Morning      0.0\n",
              "\n",
              "[5 rows x 22 columns]"
            ]
          },
          "metadata": {
            "tags": []
          },
          "execution_count": 90
        }
      ]
    },
    {
      "cell_type": "code",
      "metadata": {
        "id": "EUOvFaNIRaaJ"
      },
      "source": [
        ""
      ],
      "execution_count": 90,
      "outputs": []
    }
  ]
}